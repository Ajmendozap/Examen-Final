{
 "cells": [
  {
   "cell_type": "code",
   "execution_count": 7,
   "metadata": {},
   "outputs": [],
   "source": [
    "import numpy as np\n",
    "import matplotlib.pylab as plt"
   ]
  },
  {
   "cell_type": "code",
   "execution_count": 8,
   "metadata": {},
   "outputs": [],
   "source": [
    "N= 10**5\n",
    "xk=np.loadtxt(\"valores.txt\")"
   ]
  },
  {
   "cell_type": "code",
   "execution_count": 9,
   "metadata": {},
   "outputs": [],
   "source": [
    "def f(xk,sigma):\n",
    "    return np.exp((-xk**2)/(2*sigma**2))/(sigma*np.sqrt(2*np.pi))\n",
    "def mh(N,xk,sigma):\n",
    "    x1=np.random.random()*np.mean(xk)\n",
    "    data= np.array([])\n",
    "    data= np.append(data,x1)\n",
    "    for i in range(N-1):\n",
    "        x2=  x1+(sigma*(np.random.random()-0.5))\n",
    "        r= min(1,f(x2,1.0)/f(x1,1.0))\n",
    "        alpha= np.random.random()\n",
    "        if(alpha<r):\n",
    "            data= np.append(data,x2)\n",
    "        else:\n",
    "            data= np.append(data,x1)\n",
    "    return data"
   ]
  },
  {
   "cell_type": "code",
   "execution_count": 10,
   "metadata": {},
   "outputs": [],
   "source": [
    "data= mh(N,xk,1.0)"
   ]
  },
  {
   "cell_type": "code",
   "execution_count": 11,
   "metadata": {},
   "outputs": [
    {
     "data": {
      "image/png": "[encoded data removed]",
      "text/plain": [
       "<Figure size 432x288 with 1 Axes>"
      ]
     },
     "metadata": {
      "needs_background": "light"
     },
     "output_type": "display_data"
    }
   ],
   "source": [
    "_=plt.hist(data,density=True,color=\"green\")\n",
    "plt.title(\"$X_k$= \"+ str(round(np.mean(xk),2))+\"      $\\sigma$= \"+str(1.0))\n",
    "plt.savefig(\"sigma.png\")\n",
    "plt.show()"
   ]
  },
  {
   "cell_type": "code",
   "execution_count": null,
   "metadata": {},
   "outputs": [],
   "source": []
  },
  {
   "cell_type": "code",
   "execution_count": null,
   "metadata": {},
   "outputs": [],
   "source": []
  },
  {
   "cell_type": "code",
   "execution_count": null,
   "metadata": {},
   "outputs": [],
   "source": []
  },
  {
   "cell_type": "code",
   "execution_count": null,
   "metadata": {},
   "outputs": [],
   "source": []
  }
 ],
 "metadata": {
  "kernelspec": {
   "display_name": "Python 3",
   "language": "python",
   "name": "python3"
  },
  "language_info": {
   "codemirror_mode": {
    "name": "ipython",
    "version": 3
   },
   "file_extension": ".py",
   "mimetype": "text/x-python",
   "name": "python",
   "nbconvert_exporter": "python",
   "pygments_lexer": "ipython3",
   "version": "3.7.3"
  }
 },
 "nbformat": 4,
 "nbformat_minor": 2
}
